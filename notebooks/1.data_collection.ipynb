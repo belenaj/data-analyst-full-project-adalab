{
 "cells": [
  {
   "attachments": {},
   "cell_type": "markdown",
   "metadata": {},
   "source": [
    "# 1. Data collection"
   ]
  },
  {
   "attachments": {},
   "cell_type": "markdown",
   "metadata": {},
   "source": [
    "### Output/Deliverables:\n",
    "- For each exercise, a notebook in the folder notebooks/ must be commited\n",
    "- Create one reusable (shared across exercises) python function called paginate_api_calls that will handle the pagination of the API. - It will accept two arguments (url, parameters)\n",
    "- Create one reusable python function called write_json_file that will write the responses to disk\n",
    "- Exercise 1: One JSON file containing all teams in the folder /data/teams. Each row in this file will represent one API response. You can find an example in sample/data/teams.json\n",
    "- Exercise 2: One JSON file containing all games in the folder /data/games. Each row in this file will represent one API response. You can find an example in sample/data/games.json\n",
    "- Exercise 3: One JSON file containing all players in the folder /data/players. Each row in this file will represent one API response. You can find an example in sample/data/players.json\n",
    "- Pagination must be dynamic. i.e. control pagination until the end.\n",
    "- Git repository must not contain any JSON/CSV files\n",
    "\n",
    "### Key Points:\n",
    "- Pagination. Each API call contains metadata that you can use to control it. I recommend to use the attribute next_page 'meta': {'total_pages': 2, 'current_page': 1, 'next_page': 2, 'per_page': 30, 'total_count': 45}\n",
    "- Reducing the number of API calls to the maximum. There is a parameter to increase the number of items retrieved in each API call. By modifying it, you can reduce the total number of API Calls\n",
    "- API Search/Query: Read the docs carefully"
   ]
  },
  {
   "cell_type": "code",
   "execution_count": 35,
   "metadata": {},
   "outputs": [],
   "source": [
    "# INSTALL LIBRARIES\n",
    "# ==============================================================================\n",
    "# !pip install request\n",
    "# !pip install pandas\n",
    "# !pip install numpy\n",
    "# !pip install json\n",
    "# !pip install jupyter"
   ]
  },
  {
   "cell_type": "code",
   "execution_count": 36,
   "metadata": {},
   "outputs": [],
   "source": [
    "# IMPORT LIBRARIES\n",
    "\n",
    "# request\n",
    "# ==============================================================================\n",
    "import requests\n",
    "\n",
    "# Data processing\n",
    "# ==============================================================================\n",
    "import pandas as pd\n",
    "import numpy as np\n",
    "import json\n",
    "\n",
    "#Allows us to display more than one output per cell\n",
    "# ==============================================================================\n",
    "from IPython.core.interactiveshell import InteractiveShell\n",
    "InteractiveShell.ast_node_interactivity = \"all\" \n",
    "\n",
    "# Display all columns\n",
    "# ==============================================================================\n",
    "pd.options.display.max_columns = None"
   ]
  },
  {
   "attachments": {},
   "cell_type": "markdown",
   "metadata": {},
   "source": [
    "`` Create one reusable (shared across exercises) python function called paginate_api_calls that will handle the pagination of the API. It will accept two arguments (url, parameters) ``"
   ]
  },
  {
   "cell_type": "code",
   "execution_count": 37,
   "metadata": {},
   "outputs": [],
   "source": [
    "# The above code is creating a function that is going to be used to paginate the API calls.\n",
    "\n",
    "def paginate_api_calls(url, params): # You must give the url and the params as a dictionary\n",
    "\n",
    "    params.setdefault(\"page\",1) #\n",
    "\n",
    " # To call the API\n",
    "    response = requests.get(url, params)\n",
    "    status_code = response.status_code\n",
    "    reason_status = response.reason\n",
    "    \n",
    "    if \"meta\" in response.json().keys(): # The API call can contain metadata as meta or not.\n",
    "\n",
    "        meta = response.json()[\"meta\"]\n",
    "        next_page= meta[\"next_page\"]\n",
    "        results=[]\n",
    "\n",
    "        # This is a while loop that is going to iterate through the pages of the API.\n",
    "        while next_page != None :\n",
    "            \n",
    "            try:\n",
    "                response = requests.get(url, params, timeout=1, verify=True)\n",
    "                results.append(response.json())\n",
    "                next_page = response.json()[\"meta\"][\"next_page\"]\n",
    "            \n",
    "                params[\"page\"] += 1      \n",
    "        \n",
    "            except requests.exceptions.HTTPError as errh:\n",
    "                print(\"HTTP Error\")\n",
    "                print(errh.args[0])\n",
    "            except requests.exceptions.ReadTimeout as errrt:\n",
    "                print(\"Time out\")\n",
    "            except requests.exceptions.ConnectionError as conerr:\n",
    "                print(\"Connection error\")\n",
    "            except requests.exceptions.RequestException as errex:\n",
    "                print(\"Exception request\")\n",
    "\n",
    "        return results\n",
    "\n",
    "    # This is a condition that is going to be used if the API call does not have metadata for pagination.\n",
    "    else:\n",
    "       \n",
    "        print(\"There is not page parameter\")\n",
    "        results =response.json()\n",
    "\n",
    "        return results"
   ]
  },
  {
   "cell_type": "code",
   "execution_count": 38,
   "metadata": {},
   "outputs": [],
   "source": [
    "# To obtein information abour the status of the API call\n",
    "\n",
    "def check_api_call(url,params):\n",
    "\n",
    " # To call the API\n",
    "    response = requests.get(url, params)\n",
    "    status_code = response.status_code\n",
    "    reason_status = response.reason\n",
    "    \n",
    "    meta = response.json()[\"meta\"]\n",
    "    next_page= meta[\"next_page\"]\n",
    "    results=[]\n",
    "\n",
    "        # This is a while loop that is going to iterate through the pages of the API.\n",
    "    while next_page != None :\n",
    "\n",
    "        response = requests.get(url, params)\n",
    "        status_code = response.status_code\n",
    "        reason_status = response.reason\n",
    "        results.append(response.json())\n",
    "        next_page = response.json()[\"meta\"][\"next_page\"]\n",
    "        \n",
    "        params[\"page\"] += 1\n",
    "\n",
    "    return f'There are {meta[\"current_page\"]} pages. The status of the request is {status_code} and the reason of the state {reason_status}.'"
   ]
  },
  {
   "attachments": {},
   "cell_type": "markdown",
   "metadata": {},
   "source": [
    "``Create one reusable python function called write_json_file that will write the responses to disk``"
   ]
  },
  {
   "cell_type": "code",
   "execution_count": 39,
   "metadata": {},
   "outputs": [],
   "source": [
    "# The above code is taking the results from the API call and writing them to a json file.\n",
    "def write_json_file(results, file_name): # You must give the result of the API call and the ubi and name of the file that will be created as a string\n",
    "\n",
    "    for i in results:\n",
    "\n",
    "        if len(results) <= 1:\n",
    "            print(\"There is only one page\")\n",
    "\n",
    "        else:\n",
    "            call = json.dumps(i)\n",
    "            with open(file_name+\".json\", \"a\") as outfile:\n",
    "                outfile.write(call + \"\\n\" )\n",
    "\n",
    "    return \"The following file has been created :\" + file_name+\".json\""
   ]
  },
  {
   "attachments": {},
   "cell_type": "markdown",
   "metadata": {},
   "source": [
    "## Exercise 1.1: Get all teams. \n",
    "- https://www.balldontlie.io/home.html#get-all-teams\n",
    "- Bear in mind pagination. It is possible to pass additional arguments to the API call."
   ]
  },
  {
   "cell_type": "code",
   "execution_count": 40,
   "metadata": {},
   "outputs": [],
   "source": [
    "# url and params to the API call\n",
    "TEAMS_URL = 'https://www.balldontlie.io/api/v1/teams'\n",
    "teams_params = {} # It must be a dictionary"
   ]
  },
  {
   "cell_type": "code",
   "execution_count": 41,
   "metadata": {},
   "outputs": [],
   "source": [
    "# Function to the API call\n",
    "teams = paginate_api_calls(TEAMS_URL, teams_params)"
   ]
  },
  {
   "cell_type": "code",
   "execution_count": 42,
   "metadata": {},
   "outputs": [
    {
     "data": {
      "text/plain": [
       "'There are 3 pages. The status of the request is 200 and the reason of the state OK.'"
      ]
     },
     "execution_count": 42,
     "metadata": {},
     "output_type": "execute_result"
    }
   ],
   "source": [
    "check_api_call(TEAMS_URL,teams_params)"
   ]
  },
  {
   "cell_type": "code",
   "execution_count": 43,
   "metadata": {},
   "outputs": [],
   "source": [
    "all_teams = write_json_file(teams,\"../sample/data/teams\")"
   ]
  },
  {
   "cell_type": "code",
   "execution_count": 44,
   "metadata": {},
   "outputs": [
    {
     "name": "stdout",
     "output_type": "stream",
     "text": [
      "The following file has been created :../sample/data/teams.json\n"
     ]
    }
   ],
   "source": [
    "print(all_teams)"
   ]
  },
  {
   "attachments": {},
   "cell_type": "markdown",
   "metadata": {},
   "source": [
    "## Exercise 1.2\n",
    "- It is required to obtain all games of the 1991-1992 season. No need to rename/remove fields from the response."
   ]
  },
  {
   "cell_type": "code",
   "execution_count": 45,
   "metadata": {},
   "outputs": [],
   "source": [
    "# url and params to the API call\n",
    "GAMES_URL = 'https://www.balldontlie.io/api/v1/games'\n",
    "games_params= {'seasons[]': 1991, \"per_page\":100} # It must be a dictionary"
   ]
  },
  {
   "cell_type": "code",
   "execution_count": 46,
   "metadata": {},
   "outputs": [],
   "source": [
    "# Function to the API call\n",
    "games = paginate_api_calls(GAMES_URL, games_params)"
   ]
  },
  {
   "cell_type": "code",
   "execution_count": 47,
   "metadata": {},
   "outputs": [
    {
     "data": {
      "text/plain": [
       "'There are 13 pages. The status of the request is 200 and the reason of the state OK.'"
      ]
     },
     "execution_count": 47,
     "metadata": {},
     "output_type": "execute_result"
    }
   ],
   "source": [
    "check_api_call(GAMES_URL,games_params)"
   ]
  },
  {
   "cell_type": "code",
   "execution_count": 48,
   "metadata": {},
   "outputs": [],
   "source": [
    "all_games_1991 = write_json_file(games,\"../sample/data/games\")"
   ]
  },
  {
   "cell_type": "code",
   "execution_count": 49,
   "metadata": {},
   "outputs": [
    {
     "name": "stdout",
     "output_type": "stream",
     "text": [
      "The following file has been created :../sample/data/games.json\n"
     ]
    }
   ],
   "source": [
    "print(all_games_1991)"
   ]
  },
  {
   "attachments": {},
   "cell_type": "markdown",
   "metadata": {},
   "source": [
    "## Exercise 1.3\n",
    "- It is required to obtain all players. No need to rename/remove fields from the response."
   ]
  },
  {
   "cell_type": "code",
   "execution_count": 50,
   "metadata": {},
   "outputs": [],
   "source": [
    "# url and params to the API call\n",
    "PLAYERS_URL = 'https://www.balldontlie.io/api/v1/players'\n",
    "players_params= {\"per_page\":100} # It must be a dictionary"
   ]
  },
  {
   "cell_type": "code",
   "execution_count": 51,
   "metadata": {},
   "outputs": [],
   "source": [
    "# Function to the API call\n",
    "players = paginate_api_calls(PLAYERS_URL, players_params)"
   ]
  },
  {
   "cell_type": "code",
   "execution_count": 55,
   "metadata": {},
   "outputs": [
    {
     "data": {
      "text/plain": [
       "'There are 53 pages. The status of the request is 200 and the reason of the state OK.'"
      ]
     },
     "execution_count": 55,
     "metadata": {},
     "output_type": "execute_result"
    }
   ],
   "source": [
    "check_api_call(PLAYERS_URL,players_params)"
   ]
  },
  {
   "cell_type": "code",
   "execution_count": 53,
   "metadata": {},
   "outputs": [],
   "source": [
    "all_players = write_json_file(players,\"../sample/data/players\")"
   ]
  },
  {
   "cell_type": "code",
   "execution_count": 54,
   "metadata": {},
   "outputs": [
    {
     "name": "stdout",
     "output_type": "stream",
     "text": [
      "The following file has been created :../sample/data/players.json\n"
     ]
    }
   ],
   "source": [
    "print(all_players)"
   ]
  }
 ],
 "metadata": {
  "kernelspec": {
   "display_name": "testenv",
   "language": "python",
   "name": "python3"
  },
  "language_info": {
   "codemirror_mode": {
    "name": "ipython",
    "version": 3
   },
   "file_extension": ".py",
   "mimetype": "text/x-python",
   "name": "python",
   "nbconvert_exporter": "python",
   "pygments_lexer": "ipython3",
   "version": "3.11.2"
  },
  "orig_nbformat": 4,
  "vscode": {
   "interpreter": {
    "hash": "d2c830d6dee9d0c44b274c3dcd5b7ef52a928458cd20000d2bece538c641f81e"
   }
  }
 },
 "nbformat": 4,
 "nbformat_minor": 2
}
