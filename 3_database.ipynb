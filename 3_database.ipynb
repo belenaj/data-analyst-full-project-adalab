{
 "cells": [
  {
   "attachments": {},
   "cell_type": "markdown",
   "metadata": {},
   "source": [
    "# 3. Data ingestion"
   ]
  },
  {
   "attachments": {},
   "cell_type": "markdown",
   "metadata": {},
   "source": [
    "Using the python mysql connector, read and upload the previously generated CSV files into the MYSQL Database\n",
    "\n",
    "Output/Deliverables:\n",
    "- Table DDLs (Create table statements) in the folder sql/ddl/\n",
    "- Python code that creates the tables and ingests the data into the tables"
   ]
  },
  {
   "cell_type": "code",
   "execution_count": 1,
   "metadata": {},
   "outputs": [],
   "source": [
    "# Data processing\n",
    "# ==============================================================================\n",
    "import pandas as pd\n",
    "import numpy as np\n",
    "import datetime\n",
    "\n",
    "# mysql connector\n",
    "# ==============================================================================\n",
    "# pip install mysql-connector\n",
    "# pip install mysql-connector-python\n",
    "import mysql.connector \n",
    "\n",
    "#Allows us to display more than one output per cell\n",
    "# ==============================================================================\n",
    "from IPython.core.interactiveshell import InteractiveShell\n",
    "InteractiveShell.ast_node_interactivity = \"all\" \n",
    "\n",
    "# Display all columns\n",
    "# ==============================================================================\n",
    "pd.options.display.max_columns = None"
   ]
  },
  {
   "cell_type": "code",
   "execution_count": 2,
   "metadata": {},
   "outputs": [],
   "source": [
    "# This is a function that reads the CSV file and returns the resulting DataFrame. \n",
    "\n",
    "def open_file (csv_file): #parameter `csv_file` which is expected to be a string representing the name of a CSV file.\n",
    "    df = pd.read_csv(f'notebooks/{csv_file}.csv', index_col=0) # The `index_col=0` argument specifies that the first column of the CSV file should be used as the index of the DataFrame.\n",
    "\n",
    "    return df"
   ]
  },
  {
   "attachments": {},
   "cell_type": "markdown",
   "metadata": {},
   "source": [
    "``Teams``"
   ]
  },
  {
   "cell_type": "code",
   "execution_count": 3,
   "metadata": {},
   "outputs": [
    {
     "data": {
      "text/html": [
       "<div>\n",
       "<style scoped>\n",
       "    .dataframe tbody tr th:only-of-type {\n",
       "        vertical-align: middle;\n",
       "    }\n",
       "\n",
       "    .dataframe tbody tr th {\n",
       "        vertical-align: top;\n",
       "    }\n",
       "\n",
       "    .dataframe thead th {\n",
       "        text-align: right;\n",
       "    }\n",
       "</style>\n",
       "<table border=\"1\" class=\"dataframe\">\n",
       "  <thead>\n",
       "    <tr style=\"text-align: right;\">\n",
       "      <th></th>\n",
       "      <th>id</th>\n",
       "      <th>abbreviation</th>\n",
       "      <th>city</th>\n",
       "      <th>conference</th>\n",
       "      <th>division</th>\n",
       "      <th>full_name</th>\n",
       "      <th>name</th>\n",
       "    </tr>\n",
       "  </thead>\n",
       "  <tbody>\n",
       "    <tr>\n",
       "      <th>0</th>\n",
       "      <td>1</td>\n",
       "      <td>ATL</td>\n",
       "      <td>Atlanta</td>\n",
       "      <td>East</td>\n",
       "      <td>Southeast</td>\n",
       "      <td>Atlanta Hawks</td>\n",
       "      <td>Hawks</td>\n",
       "    </tr>\n",
       "    <tr>\n",
       "      <th>1</th>\n",
       "      <td>2</td>\n",
       "      <td>BOS</td>\n",
       "      <td>Boston</td>\n",
       "      <td>East</td>\n",
       "      <td>Atlantic</td>\n",
       "      <td>Boston Celtics</td>\n",
       "      <td>Celtics</td>\n",
       "    </tr>\n",
       "    <tr>\n",
       "      <th>2</th>\n",
       "      <td>3</td>\n",
       "      <td>BKN</td>\n",
       "      <td>Brooklyn</td>\n",
       "      <td>East</td>\n",
       "      <td>Atlantic</td>\n",
       "      <td>Brooklyn Nets</td>\n",
       "      <td>Nets</td>\n",
       "    </tr>\n",
       "    <tr>\n",
       "      <th>3</th>\n",
       "      <td>4</td>\n",
       "      <td>CHA</td>\n",
       "      <td>Charlotte</td>\n",
       "      <td>East</td>\n",
       "      <td>Southeast</td>\n",
       "      <td>Charlotte Hornets</td>\n",
       "      <td>Hornets</td>\n",
       "    </tr>\n",
       "    <tr>\n",
       "      <th>4</th>\n",
       "      <td>5</td>\n",
       "      <td>CHI</td>\n",
       "      <td>Chicago</td>\n",
       "      <td>East</td>\n",
       "      <td>Central</td>\n",
       "      <td>Chicago Bulls</td>\n",
       "      <td>Bulls</td>\n",
       "    </tr>\n",
       "  </tbody>\n",
       "</table>\n",
       "</div>"
      ],
      "text/plain": [
       "   id abbreviation       city conference   division          full_name   \n",
       "0   1          ATL    Atlanta       East  Southeast      Atlanta Hawks  \\\n",
       "1   2          BOS     Boston       East   Atlantic     Boston Celtics   \n",
       "2   3          BKN   Brooklyn       East   Atlantic      Brooklyn Nets   \n",
       "3   4          CHA  Charlotte       East  Southeast  Charlotte Hornets   \n",
       "4   5          CHI    Chicago       East    Central      Chicago Bulls   \n",
       "\n",
       "      name  \n",
       "0    Hawks  \n",
       "1  Celtics  \n",
       "2     Nets  \n",
       "3  Hornets  \n",
       "4    Bulls  "
      ]
     },
     "execution_count": 3,
     "metadata": {},
     "output_type": "execute_result"
    }
   ],
   "source": [
    "df_teams = open_file(\"teams\")\n",
    "df_teams.head()"
   ]
  },
  {
   "attachments": {},
   "cell_type": "markdown",
   "metadata": {},
   "source": [
    "``Games``"
   ]
  },
  {
   "cell_type": "code",
   "execution_count": 4,
   "metadata": {},
   "outputs": [
    {
     "data": {
      "text/html": [
       "<div>\n",
       "<style scoped>\n",
       "    .dataframe tbody tr th:only-of-type {\n",
       "        vertical-align: middle;\n",
       "    }\n",
       "\n",
       "    .dataframe tbody tr th {\n",
       "        vertical-align: top;\n",
       "    }\n",
       "\n",
       "    .dataframe thead th {\n",
       "        text-align: right;\n",
       "    }\n",
       "</style>\n",
       "<table border=\"1\" class=\"dataframe\">\n",
       "  <thead>\n",
       "    <tr style=\"text-align: right;\">\n",
       "      <th></th>\n",
       "      <th>id</th>\n",
       "      <th>date</th>\n",
       "      <th>home_team_score</th>\n",
       "      <th>period</th>\n",
       "      <th>postseason</th>\n",
       "      <th>season</th>\n",
       "      <th>status</th>\n",
       "      <th>time</th>\n",
       "      <th>visitor_team_score</th>\n",
       "      <th>home_team.id</th>\n",
       "      <th>home_team.abbreviation</th>\n",
       "      <th>home_team.city</th>\n",
       "      <th>home_team.conference</th>\n",
       "      <th>home_team.division</th>\n",
       "      <th>home_team.full_name</th>\n",
       "      <th>home_team.name</th>\n",
       "      <th>visitor_team.id</th>\n",
       "      <th>visitor_team.abbreviation</th>\n",
       "      <th>visitor_team.city</th>\n",
       "      <th>visitor_team.conference</th>\n",
       "      <th>visitor_team.division</th>\n",
       "      <th>visitor_team.full_name</th>\n",
       "      <th>visitor_team.name</th>\n",
       "    </tr>\n",
       "  </thead>\n",
       "  <tbody>\n",
       "    <tr>\n",
       "      <th>0</th>\n",
       "      <td>1164</td>\n",
       "      <td>1991-11-08T00:00:00.000Z</td>\n",
       "      <td>107</td>\n",
       "      <td>4</td>\n",
       "      <td>False</td>\n",
       "      <td>1991</td>\n",
       "      <td>Final</td>\n",
       "      <td></td>\n",
       "      <td>101</td>\n",
       "      <td>27</td>\n",
       "      <td>SAS</td>\n",
       "      <td>San Antonio</td>\n",
       "      <td>West</td>\n",
       "      <td>Southwest</td>\n",
       "      <td>San Antonio Spurs</td>\n",
       "      <td>Spurs</td>\n",
       "      <td>6</td>\n",
       "      <td>CLE</td>\n",
       "      <td>Cleveland</td>\n",
       "      <td>East</td>\n",
       "      <td>Central</td>\n",
       "      <td>Cleveland Cavaliers</td>\n",
       "      <td>Cavaliers</td>\n",
       "    </tr>\n",
       "    <tr>\n",
       "      <th>1</th>\n",
       "      <td>1165</td>\n",
       "      <td>1991-11-09T00:00:00.000Z</td>\n",
       "      <td>118</td>\n",
       "      <td>4</td>\n",
       "      <td>False</td>\n",
       "      <td>1991</td>\n",
       "      <td>Final</td>\n",
       "      <td></td>\n",
       "      <td>111</td>\n",
       "      <td>21</td>\n",
       "      <td>OKC</td>\n",
       "      <td>Oklahoma City</td>\n",
       "      <td>West</td>\n",
       "      <td>Northwest</td>\n",
       "      <td>Oklahoma City Thunder</td>\n",
       "      <td>Thunder</td>\n",
       "      <td>12</td>\n",
       "      <td>IND</td>\n",
       "      <td>Indiana</td>\n",
       "      <td>East</td>\n",
       "      <td>Central</td>\n",
       "      <td>Indiana Pacers</td>\n",
       "      <td>Pacers</td>\n",
       "    </tr>\n",
       "    <tr>\n",
       "      <th>2</th>\n",
       "      <td>1166</td>\n",
       "      <td>1992-04-15T00:00:00.000Z</td>\n",
       "      <td>95</td>\n",
       "      <td>4</td>\n",
       "      <td>False</td>\n",
       "      <td>1991</td>\n",
       "      <td>Final</td>\n",
       "      <td></td>\n",
       "      <td>94</td>\n",
       "      <td>1</td>\n",
       "      <td>ATL</td>\n",
       "      <td>Atlanta</td>\n",
       "      <td>East</td>\n",
       "      <td>Southeast</td>\n",
       "      <td>Atlanta Hawks</td>\n",
       "      <td>Hawks</td>\n",
       "      <td>20</td>\n",
       "      <td>NYK</td>\n",
       "      <td>New York</td>\n",
       "      <td>East</td>\n",
       "      <td>Atlantic</td>\n",
       "      <td>New York Knicks</td>\n",
       "      <td>Knicks</td>\n",
       "    </tr>\n",
       "    <tr>\n",
       "      <th>3</th>\n",
       "      <td>1167</td>\n",
       "      <td>1992-04-16T00:00:00.000Z</td>\n",
       "      <td>96</td>\n",
       "      <td>4</td>\n",
       "      <td>False</td>\n",
       "      <td>1991</td>\n",
       "      <td>Final</td>\n",
       "      <td></td>\n",
       "      <td>93</td>\n",
       "      <td>13</td>\n",
       "      <td>LAC</td>\n",
       "      <td>LA</td>\n",
       "      <td>West</td>\n",
       "      <td>Pacific</td>\n",
       "      <td>LA Clippers</td>\n",
       "      <td>Clippers</td>\n",
       "      <td>18</td>\n",
       "      <td>MIN</td>\n",
       "      <td>Minnesota</td>\n",
       "      <td>West</td>\n",
       "      <td>Northwest</td>\n",
       "      <td>Minnesota Timberwolves</td>\n",
       "      <td>Timberwolves</td>\n",
       "    </tr>\n",
       "    <tr>\n",
       "      <th>4</th>\n",
       "      <td>1168</td>\n",
       "      <td>1992-04-17T00:00:00.000Z</td>\n",
       "      <td>130</td>\n",
       "      <td>4</td>\n",
       "      <td>False</td>\n",
       "      <td>1991</td>\n",
       "      <td>Final</td>\n",
       "      <td></td>\n",
       "      <td>106</td>\n",
       "      <td>21</td>\n",
       "      <td>OKC</td>\n",
       "      <td>Oklahoma City</td>\n",
       "      <td>West</td>\n",
       "      <td>Northwest</td>\n",
       "      <td>Oklahoma City Thunder</td>\n",
       "      <td>Thunder</td>\n",
       "      <td>26</td>\n",
       "      <td>SAC</td>\n",
       "      <td>Sacramento</td>\n",
       "      <td>West</td>\n",
       "      <td>Pacific</td>\n",
       "      <td>Sacramento Kings</td>\n",
       "      <td>Kings</td>\n",
       "    </tr>\n",
       "  </tbody>\n",
       "</table>\n",
       "</div>"
      ],
      "text/plain": [
       "     id                      date  home_team_score  period  postseason   \n",
       "0  1164  1991-11-08T00:00:00.000Z              107       4       False  \\\n",
       "1  1165  1991-11-09T00:00:00.000Z              118       4       False   \n",
       "2  1166  1992-04-15T00:00:00.000Z               95       4       False   \n",
       "3  1167  1992-04-16T00:00:00.000Z               96       4       False   \n",
       "4  1168  1992-04-17T00:00:00.000Z              130       4       False   \n",
       "\n",
       "   season status time  visitor_team_score  home_team.id   \n",
       "0    1991  Final                      101            27  \\\n",
       "1    1991  Final                      111            21   \n",
       "2    1991  Final                       94             1   \n",
       "3    1991  Final                       93            13   \n",
       "4    1991  Final                      106            21   \n",
       "\n",
       "  home_team.abbreviation home_team.city home_team.conference   \n",
       "0                    SAS    San Antonio                 West  \\\n",
       "1                    OKC  Oklahoma City                 West   \n",
       "2                    ATL        Atlanta                 East   \n",
       "3                    LAC             LA                 West   \n",
       "4                    OKC  Oklahoma City                 West   \n",
       "\n",
       "  home_team.division    home_team.full_name home_team.name  visitor_team.id   \n",
       "0          Southwest      San Antonio Spurs          Spurs                6  \\\n",
       "1          Northwest  Oklahoma City Thunder        Thunder               12   \n",
       "2          Southeast          Atlanta Hawks          Hawks               20   \n",
       "3            Pacific            LA Clippers       Clippers               18   \n",
       "4          Northwest  Oklahoma City Thunder        Thunder               26   \n",
       "\n",
       "  visitor_team.abbreviation visitor_team.city visitor_team.conference   \n",
       "0                       CLE         Cleveland                    East  \\\n",
       "1                       IND           Indiana                    East   \n",
       "2                       NYK          New York                    East   \n",
       "3                       MIN         Minnesota                    West   \n",
       "4                       SAC        Sacramento                    West   \n",
       "\n",
       "  visitor_team.division  visitor_team.full_name visitor_team.name  \n",
       "0               Central     Cleveland Cavaliers         Cavaliers  \n",
       "1               Central          Indiana Pacers            Pacers  \n",
       "2              Atlantic         New York Knicks            Knicks  \n",
       "3             Northwest  Minnesota Timberwolves      Timberwolves  \n",
       "4               Pacific        Sacramento Kings             Kings  "
      ]
     },
     "execution_count": 4,
     "metadata": {},
     "output_type": "execute_result"
    }
   ],
   "source": [
    "df_games = open_file(\"games\")\n",
    "df_games.head()"
   ]
  },
  {
   "attachments": {},
   "cell_type": "markdown",
   "metadata": {},
   "source": [
    "``Players``"
   ]
  },
  {
   "cell_type": "code",
   "execution_count": 5,
   "metadata": {},
   "outputs": [
    {
     "data": {
      "text/html": [
       "<div>\n",
       "<style scoped>\n",
       "    .dataframe tbody tr th:only-of-type {\n",
       "        vertical-align: middle;\n",
       "    }\n",
       "\n",
       "    .dataframe tbody tr th {\n",
       "        vertical-align: top;\n",
       "    }\n",
       "\n",
       "    .dataframe thead th {\n",
       "        text-align: right;\n",
       "    }\n",
       "</style>\n",
       "<table border=\"1\" class=\"dataframe\">\n",
       "  <thead>\n",
       "    <tr style=\"text-align: right;\">\n",
       "      <th></th>\n",
       "      <th>id</th>\n",
       "      <th>first_name</th>\n",
       "      <th>height_feet</th>\n",
       "      <th>height_inches</th>\n",
       "      <th>last_name</th>\n",
       "      <th>position</th>\n",
       "      <th>weight_pounds</th>\n",
       "      <th>team.id</th>\n",
       "      <th>team.abbreviation</th>\n",
       "      <th>team.city</th>\n",
       "      <th>team.conference</th>\n",
       "      <th>team.division</th>\n",
       "      <th>team.full_name</th>\n",
       "      <th>team.name</th>\n",
       "    </tr>\n",
       "  </thead>\n",
       "  <tbody>\n",
       "    <tr>\n",
       "      <th>0</th>\n",
       "      <td>14</td>\n",
       "      <td>Ike</td>\n",
       "      <td>NaN</td>\n",
       "      <td>NaN</td>\n",
       "      <td>Anigbogu</td>\n",
       "      <td>C</td>\n",
       "      <td>NaN</td>\n",
       "      <td>12</td>\n",
       "      <td>IND</td>\n",
       "      <td>Indiana</td>\n",
       "      <td>East</td>\n",
       "      <td>Central</td>\n",
       "      <td>Indiana Pacers</td>\n",
       "      <td>Pacers</td>\n",
       "    </tr>\n",
       "    <tr>\n",
       "      <th>1</th>\n",
       "      <td>25</td>\n",
       "      <td>Ron</td>\n",
       "      <td>NaN</td>\n",
       "      <td>NaN</td>\n",
       "      <td>Baker</td>\n",
       "      <td>G</td>\n",
       "      <td>NaN</td>\n",
       "      <td>20</td>\n",
       "      <td>NYK</td>\n",
       "      <td>New York</td>\n",
       "      <td>East</td>\n",
       "      <td>Atlantic</td>\n",
       "      <td>New York Knicks</td>\n",
       "      <td>Knicks</td>\n",
       "    </tr>\n",
       "    <tr>\n",
       "      <th>2</th>\n",
       "      <td>47</td>\n",
       "      <td>Jabari</td>\n",
       "      <td>NaN</td>\n",
       "      <td>NaN</td>\n",
       "      <td>Bird</td>\n",
       "      <td>G</td>\n",
       "      <td>NaN</td>\n",
       "      <td>2</td>\n",
       "      <td>BOS</td>\n",
       "      <td>Boston</td>\n",
       "      <td>East</td>\n",
       "      <td>Atlantic</td>\n",
       "      <td>Boston Celtics</td>\n",
       "      <td>Celtics</td>\n",
       "    </tr>\n",
       "    <tr>\n",
       "      <th>3</th>\n",
       "      <td>67</td>\n",
       "      <td>MarShon</td>\n",
       "      <td>NaN</td>\n",
       "      <td>NaN</td>\n",
       "      <td>Brooks</td>\n",
       "      <td>G</td>\n",
       "      <td>NaN</td>\n",
       "      <td>15</td>\n",
       "      <td>MEM</td>\n",
       "      <td>Memphis</td>\n",
       "      <td>West</td>\n",
       "      <td>Southwest</td>\n",
       "      <td>Memphis Grizzlies</td>\n",
       "      <td>Grizzlies</td>\n",
       "    </tr>\n",
       "    <tr>\n",
       "      <th>4</th>\n",
       "      <td>71</td>\n",
       "      <td>Lorenzo</td>\n",
       "      <td>NaN</td>\n",
       "      <td>NaN</td>\n",
       "      <td>Brown</td>\n",
       "      <td>G</td>\n",
       "      <td>NaN</td>\n",
       "      <td>28</td>\n",
       "      <td>TOR</td>\n",
       "      <td>Toronto</td>\n",
       "      <td>East</td>\n",
       "      <td>Atlantic</td>\n",
       "      <td>Toronto Raptors</td>\n",
       "      <td>Raptors</td>\n",
       "    </tr>\n",
       "  </tbody>\n",
       "</table>\n",
       "</div>"
      ],
      "text/plain": [
       "   id first_name  height_feet  height_inches last_name position   \n",
       "0  14        Ike          NaN            NaN  Anigbogu        C  \\\n",
       "1  25        Ron          NaN            NaN     Baker        G   \n",
       "2  47     Jabari          NaN            NaN      Bird        G   \n",
       "3  67    MarShon          NaN            NaN    Brooks        G   \n",
       "4  71    Lorenzo          NaN            NaN     Brown        G   \n",
       "\n",
       "   weight_pounds  team.id team.abbreviation team.city team.conference   \n",
       "0            NaN       12               IND   Indiana            East  \\\n",
       "1            NaN       20               NYK  New York            East   \n",
       "2            NaN        2               BOS    Boston            East   \n",
       "3            NaN       15               MEM   Memphis            West   \n",
       "4            NaN       28               TOR   Toronto            East   \n",
       "\n",
       "  team.division     team.full_name  team.name  \n",
       "0       Central     Indiana Pacers     Pacers  \n",
       "1      Atlantic    New York Knicks     Knicks  \n",
       "2      Atlantic     Boston Celtics    Celtics  \n",
       "3     Southwest  Memphis Grizzlies  Grizzlies  \n",
       "4      Atlantic    Toronto Raptors    Raptors  "
      ]
     },
     "execution_count": 5,
     "metadata": {},
     "output_type": "execute_result"
    }
   ],
   "source": [
    "df_players = open_file(\"players\")\n",
    "df_players.head()"
   ]
  },
  {
   "attachments": {},
   "cell_type": "markdown",
   "metadata": {},
   "source": [
    "## Database creation"
   ]
  },
  {
   "cell_type": "code",
   "execution_count": 6,
   "metadata": {},
   "outputs": [],
   "source": [
    "def create_DB(nombre_bbdd):\n",
    "    cnx = mysql.connector.connect(user='root', password='AlumnaAdalab',\n",
    "                                host='127.0.0.1')\n",
    "\n",
    "    mycursor = cnx.cursor()\n",
    "\n",
    "    sql = (f\"CREATE DATABASE {nombre_bbdd}\")\n",
    "    try:\n",
    "        mycursor.execute(sql)\n",
    "        print(f\"The database {nombre_bbdd} has been successfully created.\")\n",
    "\n",
    "    except mysql.connector.Error as err:\n",
    "        print(err)\n",
    "        print(\"Error Code:\", err.errno)\n",
    "        print(\"SQLSTATE\", err.sqlstate)\n",
    "        print(\"Message\", err.msg)\n",
    "    return mycursor.close() \n",
    "    "
   ]
  },
  {
   "cell_type": "code",
   "execution_count": 7,
   "metadata": {},
   "outputs": [
    {
     "name": "stdout",
     "output_type": "stream",
     "text": [
      "The database db_ball_api has been successfully created.\n"
     ]
    },
    {
     "data": {
      "text/plain": [
       "True"
      ]
     },
     "execution_count": 7,
     "metadata": {},
     "output_type": "execute_result"
    }
   ],
   "source": [
    "create_DB(\"db_ball_api\")"
   ]
  },
  {
   "attachments": {},
   "cell_type": "markdown",
   "metadata": {},
   "source": [
    "## Tables creation"
   ]
  },
  {
   "cell_type": "code",
   "execution_count": 7,
   "metadata": {},
   "outputs": [],
   "source": [
    "# This is a Python function that connects to a MySQL database using the `mysql.connector` module and executes a given SQL query. \n",
    "\n",
    "def execute_query(query): # The function takes a single argument `query`, which is the SQL query to be executed.\n",
    "    \n",
    "    cnx = mysql.connector.connect(user='root', password='AlumnaAdalab',\n",
    "                                host='127.0.0.1', database= 'DB_Ball_API')\n",
    "\n",
    "    mycursor = cnx.cursor() # It creates a cursor object, executes the query using the cursor, and commits the changes to the database.\n",
    "    \n",
    "    try: \n",
    "        mycursor.execute(query)\n",
    "        cnx.commit()\n",
    "\n",
    "    except mysql.connector.Error as err:\n",
    "        print(err)\n",
    "        print(\"Error Code:\", err.errno)\n",
    "        print(\"SQLSTATE\", err.sqlstate)\n",
    "        print(\"Message\", err.msg)\n",
    "    \n",
    "    else:\n",
    "        mycursor.close()\n",
    "        cnx.close() # Finally, the function closes the cursor and the database connection.\n"
   ]
  },
  {
   "attachments": {},
   "cell_type": "markdown",
   "metadata": {},
   "source": [
    "`Teams`"
   ]
  },
  {
   "cell_type": "code",
   "execution_count": 13,
   "metadata": {},
   "outputs": [],
   "source": [
    "teams_table_query = \"\"\"CREATE TABLE IF NOT EXISTS table_teams (\n",
    "id INT NOT NULL,\n",
    "abbreviation VARCHAR(255),\n",
    "city VARCHAR(255),\n",
    "conference VARCHAR(255),\n",
    "division VARCHAR(255),\n",
    "full_name VARCHAR(255),\n",
    "name VARCHAR(255),\n",
    "PRIMARY KEY (id));\"\"\""
   ]
  },
  {
   "cell_type": "code",
   "execution_count": 14,
   "metadata": {},
   "outputs": [],
   "source": [
    "execute_query(teams_table_query)"
   ]
  },
  {
   "attachments": {},
   "cell_type": "markdown",
   "metadata": {},
   "source": [
    "`Games`"
   ]
  },
  {
   "cell_type": "code",
   "execution_count": 15,
   "metadata": {},
   "outputs": [],
   "source": [
    "games_table_query = \"\"\"CREATE TABLE IF NOT EXISTS table_games (\n",
    "id INT NOT NULL ,\n",
    "`date` VARCHAR(255) ,\n",
    "home_team_score INT ,\n",
    "period INT ,\n",
    "postseason VARCHAR(255) ,\n",
    "season INT ,\n",
    "status VARCHAR(255) ,\n",
    "time VARCHAR(255) ,\n",
    "visitor_team_score INT ,\n",
    "`home_team.id` INT ,\n",
    "`home_team.abbreviation` VARCHAR(255) ,\n",
    "`home_team.city` VARCHAR(255) ,\n",
    "`home_team.conference` VARCHAR(255) ,\n",
    "`home_team.division` VARCHAR(255) ,\n",
    "`home_team.full_name` VARCHAR(255) ,\n",
    "`home_team.name` VARCHAR(255) ,\n",
    "`visitor_team.id` INT ,\n",
    "`visitor_team.abbreviation` VARCHAR(255) ,\n",
    "`visitor_team.city` VARCHAR(255) ,\n",
    "`visitor_team.conference` VARCHAR(255) ,\n",
    "`visitor_team.division` VARCHAR(255) ,\n",
    "`visitor_team.full_name` VARCHAR(255) ,\n",
    "`visitor_team.name` VARCHAR(255) ,\n",
    "PRIMARY KEY (id));\"\"\""
   ]
  },
  {
   "cell_type": "code",
   "execution_count": 16,
   "metadata": {},
   "outputs": [],
   "source": [
    "execute_query(games_table_query)"
   ]
  },
  {
   "attachments": {},
   "cell_type": "markdown",
   "metadata": {},
   "source": [
    "`Players`"
   ]
  },
  {
   "cell_type": "code",
   "execution_count": 17,
   "metadata": {},
   "outputs": [],
   "source": [
    "players_table_query = \"\"\"CREATE TABLE IF NOT EXISTS table_players (\n",
    "id INT NOT NULL ,\n",
    "first_name VARCHAR(255),\n",
    "height_feet VARCHAR(255),\n",
    "height_inches VARCHAR(255),\n",
    "last_name VARCHAR(255),\n",
    "position VARCHAR(255),\n",
    "weight_pounds VARCHAR(255),\n",
    "`team.id` INT,\n",
    "`team.abbreviation` VARCHAR(255),\n",
    "`team.city` VARCHAR(255),\n",
    "`team.conference` VARCHAR(255),\n",
    "`team.division` VARCHAR(255),\n",
    "`team.full_name` VARCHAR(255),\n",
    "`team.name` VARCHAR(255),\n",
    "PRIMARY KEY (id));\"\"\""
   ]
  },
  {
   "cell_type": "code",
   "execution_count": 18,
   "metadata": {},
   "outputs": [],
   "source": [
    "execute_query(players_table_query)"
   ]
  },
  {
   "attachments": {},
   "cell_type": "markdown",
   "metadata": {},
   "source": [
    "## Insert data"
   ]
  },
  {
   "attachments": {},
   "cell_type": "markdown",
   "metadata": {},
   "source": [
    "`Teams`"
   ]
  },
  {
   "cell_type": "code",
   "execution_count": 9,
   "metadata": {},
   "outputs": [
    {
     "name": "stdout",
     "output_type": "stream",
     "text": [
      "1062 (23000): Duplicate entry '1' for key 'table_teams.PRIMARY'\n",
      "Error Code: 1062\n",
      "SQLSTATE 23000\n",
      "Message Duplicate entry '1' for key 'table_teams.PRIMARY'\n",
      "1062 (23000): Duplicate entry '2' for key 'table_teams.PRIMARY'\n",
      "Error Code: 1062\n",
      "SQLSTATE 23000\n",
      "Message Duplicate entry '2' for key 'table_teams.PRIMARY'\n",
      "1062 (23000): Duplicate entry '3' for key 'table_teams.PRIMARY'\n",
      "Error Code: 1062\n",
      "SQLSTATE 23000\n",
      "Message Duplicate entry '3' for key 'table_teams.PRIMARY'\n",
      "1062 (23000): Duplicate entry '4' for key 'table_teams.PRIMARY'\n",
      "Error Code: 1062\n",
      "SQLSTATE 23000\n",
      "Message Duplicate entry '4' for key 'table_teams.PRIMARY'\n",
      "1062 (23000): Duplicate entry '5' for key 'table_teams.PRIMARY'\n",
      "Error Code: 1062\n",
      "SQLSTATE 23000\n",
      "Message Duplicate entry '5' for key 'table_teams.PRIMARY'\n",
      "1062 (23000): Duplicate entry '6' for key 'table_teams.PRIMARY'\n",
      "Error Code: 1062\n",
      "SQLSTATE 23000\n",
      "Message Duplicate entry '6' for key 'table_teams.PRIMARY'\n",
      "1062 (23000): Duplicate entry '7' for key 'table_teams.PRIMARY'\n",
      "Error Code: 1062\n",
      "SQLSTATE 23000\n",
      "Message Duplicate entry '7' for key 'table_teams.PRIMARY'\n",
      "1062 (23000): Duplicate entry '8' for key 'table_teams.PRIMARY'\n",
      "Error Code: 1062\n",
      "SQLSTATE 23000\n",
      "Message Duplicate entry '8' for key 'table_teams.PRIMARY'\n",
      "1062 (23000): Duplicate entry '9' for key 'table_teams.PRIMARY'\n",
      "Error Code: 1062\n",
      "SQLSTATE 23000\n",
      "Message Duplicate entry '9' for key 'table_teams.PRIMARY'\n",
      "1062 (23000): Duplicate entry '10' for key 'table_teams.PRIMARY'\n",
      "Error Code: 1062\n",
      "SQLSTATE 23000\n",
      "Message Duplicate entry '10' for key 'table_teams.PRIMARY'\n",
      "1062 (23000): Duplicate entry '11' for key 'table_teams.PRIMARY'\n",
      "Error Code: 1062\n",
      "SQLSTATE 23000\n",
      "Message Duplicate entry '11' for key 'table_teams.PRIMARY'\n",
      "1062 (23000): Duplicate entry '12' for key 'table_teams.PRIMARY'\n",
      "Error Code: 1062\n",
      "SQLSTATE 23000\n",
      "Message Duplicate entry '12' for key 'table_teams.PRIMARY'\n",
      "1062 (23000): Duplicate entry '13' for key 'table_teams.PRIMARY'\n",
      "Error Code: 1062\n",
      "SQLSTATE 23000\n",
      "Message Duplicate entry '13' for key 'table_teams.PRIMARY'\n",
      "1062 (23000): Duplicate entry '14' for key 'table_teams.PRIMARY'\n",
      "Error Code: 1062\n",
      "SQLSTATE 23000\n",
      "Message Duplicate entry '14' for key 'table_teams.PRIMARY'\n",
      "1062 (23000): Duplicate entry '15' for key 'table_teams.PRIMARY'\n",
      "Error Code: 1062\n",
      "SQLSTATE 23000\n",
      "Message Duplicate entry '15' for key 'table_teams.PRIMARY'\n",
      "1062 (23000): Duplicate entry '16' for key 'table_teams.PRIMARY'\n",
      "Error Code: 1062\n",
      "SQLSTATE 23000\n",
      "Message Duplicate entry '16' for key 'table_teams.PRIMARY'\n",
      "1062 (23000): Duplicate entry '17' for key 'table_teams.PRIMARY'\n",
      "Error Code: 1062\n",
      "SQLSTATE 23000\n",
      "Message Duplicate entry '17' for key 'table_teams.PRIMARY'\n",
      "1062 (23000): Duplicate entry '18' for key 'table_teams.PRIMARY'\n",
      "Error Code: 1062\n",
      "SQLSTATE 23000\n",
      "Message Duplicate entry '18' for key 'table_teams.PRIMARY'\n",
      "1062 (23000): Duplicate entry '19' for key 'table_teams.PRIMARY'\n",
      "Error Code: 1062\n",
      "SQLSTATE 23000\n",
      "Message Duplicate entry '19' for key 'table_teams.PRIMARY'\n",
      "1062 (23000): Duplicate entry '20' for key 'table_teams.PRIMARY'\n",
      "Error Code: 1062\n",
      "SQLSTATE 23000\n",
      "Message Duplicate entry '20' for key 'table_teams.PRIMARY'\n",
      "1062 (23000): Duplicate entry '21' for key 'table_teams.PRIMARY'\n",
      "Error Code: 1062\n",
      "SQLSTATE 23000\n",
      "Message Duplicate entry '21' for key 'table_teams.PRIMARY'\n",
      "1062 (23000): Duplicate entry '22' for key 'table_teams.PRIMARY'\n",
      "Error Code: 1062\n",
      "SQLSTATE 23000\n",
      "Message Duplicate entry '22' for key 'table_teams.PRIMARY'\n",
      "1062 (23000): Duplicate entry '23' for key 'table_teams.PRIMARY'\n",
      "Error Code: 1062\n",
      "SQLSTATE 23000\n",
      "Message Duplicate entry '23' for key 'table_teams.PRIMARY'\n",
      "1062 (23000): Duplicate entry '24' for key 'table_teams.PRIMARY'\n",
      "Error Code: 1062\n",
      "SQLSTATE 23000\n",
      "Message Duplicate entry '24' for key 'table_teams.PRIMARY'\n",
      "1062 (23000): Duplicate entry '25' for key 'table_teams.PRIMARY'\n",
      "Error Code: 1062\n",
      "SQLSTATE 23000\n",
      "Message Duplicate entry '25' for key 'table_teams.PRIMARY'\n",
      "1062 (23000): Duplicate entry '26' for key 'table_teams.PRIMARY'\n",
      "Error Code: 1062\n",
      "SQLSTATE 23000\n",
      "Message Duplicate entry '26' for key 'table_teams.PRIMARY'\n",
      "1062 (23000): Duplicate entry '27' for key 'table_teams.PRIMARY'\n",
      "Error Code: 1062\n",
      "SQLSTATE 23000\n",
      "Message Duplicate entry '27' for key 'table_teams.PRIMARY'\n",
      "1062 (23000): Duplicate entry '28' for key 'table_teams.PRIMARY'\n",
      "Error Code: 1062\n",
      "SQLSTATE 23000\n",
      "Message Duplicate entry '28' for key 'table_teams.PRIMARY'\n",
      "1062 (23000): Duplicate entry '29' for key 'table_teams.PRIMARY'\n",
      "Error Code: 1062\n",
      "SQLSTATE 23000\n",
      "Message Duplicate entry '29' for key 'table_teams.PRIMARY'\n",
      "1062 (23000): Duplicate entry '30' for key 'table_teams.PRIMARY'\n",
      "Error Code: 1062\n",
      "SQLSTATE 23000\n",
      "Message Duplicate entry '30' for key 'table_teams.PRIMARY'\n",
      "1062 (23000): Duplicate entry '37' for key 'table_teams.PRIMARY'\n",
      "Error Code: 1062\n",
      "SQLSTATE 23000\n",
      "Message Duplicate entry '37' for key 'table_teams.PRIMARY'\n",
      "1062 (23000): Duplicate entry '38' for key 'table_teams.PRIMARY'\n",
      "Error Code: 1062\n",
      "SQLSTATE 23000\n",
      "Message Duplicate entry '38' for key 'table_teams.PRIMARY'\n",
      "1062 (23000): Duplicate entry '39' for key 'table_teams.PRIMARY'\n",
      "Error Code: 1062\n",
      "SQLSTATE 23000\n",
      "Message Duplicate entry '39' for key 'table_teams.PRIMARY'\n",
      "1062 (23000): Duplicate entry '40' for key 'table_teams.PRIMARY'\n",
      "Error Code: 1062\n",
      "SQLSTATE 23000\n",
      "Message Duplicate entry '40' for key 'table_teams.PRIMARY'\n",
      "1062 (23000): Duplicate entry '41' for key 'table_teams.PRIMARY'\n",
      "Error Code: 1062\n",
      "SQLSTATE 23000\n",
      "Message Duplicate entry '41' for key 'table_teams.PRIMARY'\n",
      "1062 (23000): Duplicate entry '42' for key 'table_teams.PRIMARY'\n",
      "Error Code: 1062\n",
      "SQLSTATE 23000\n",
      "Message Duplicate entry '42' for key 'table_teams.PRIMARY'\n",
      "1062 (23000): Duplicate entry '43' for key 'table_teams.PRIMARY'\n",
      "Error Code: 1062\n",
      "SQLSTATE 23000\n",
      "Message Duplicate entry '43' for key 'table_teams.PRIMARY'\n",
      "1062 (23000): Duplicate entry '44' for key 'table_teams.PRIMARY'\n",
      "Error Code: 1062\n",
      "SQLSTATE 23000\n",
      "Message Duplicate entry '44' for key 'table_teams.PRIMARY'\n",
      "1062 (23000): Duplicate entry '45' for key 'table_teams.PRIMARY'\n",
      "Error Code: 1062\n",
      "SQLSTATE 23000\n",
      "Message Duplicate entry '45' for key 'table_teams.PRIMARY'\n",
      "1062 (23000): Duplicate entry '46' for key 'table_teams.PRIMARY'\n",
      "Error Code: 1062\n",
      "SQLSTATE 23000\n",
      "Message Duplicate entry '46' for key 'table_teams.PRIMARY'\n",
      "1062 (23000): Duplicate entry '47' for key 'table_teams.PRIMARY'\n",
      "Error Code: 1062\n",
      "SQLSTATE 23000\n",
      "Message Duplicate entry '47' for key 'table_teams.PRIMARY'\n",
      "1062 (23000): Duplicate entry '48' for key 'table_teams.PRIMARY'\n",
      "Error Code: 1062\n",
      "SQLSTATE 23000\n",
      "Message Duplicate entry '48' for key 'table_teams.PRIMARY'\n",
      "1062 (23000): Duplicate entry '49' for key 'table_teams.PRIMARY'\n",
      "Error Code: 1062\n",
      "SQLSTATE 23000\n",
      "Message Duplicate entry '49' for key 'table_teams.PRIMARY'\n",
      "1062 (23000): Duplicate entry '50' for key 'table_teams.PRIMARY'\n",
      "Error Code: 1062\n",
      "SQLSTATE 23000\n",
      "Message Duplicate entry '50' for key 'table_teams.PRIMARY'\n",
      "1062 (23000): Duplicate entry '51' for key 'table_teams.PRIMARY'\n",
      "Error Code: 1062\n",
      "SQLSTATE 23000\n",
      "Message Duplicate entry '51' for key 'table_teams.PRIMARY'\n"
     ]
    }
   ],
   "source": [
    "# This code is iterating through each row of a pandas DataFrame using the `iterrows()` method. For each row, it is constructing an SQL query to insert the values of that row into a table.\n",
    "for index, row in df_teams.iterrows():\n",
    "\n",
    "    try: \n",
    "\n",
    "        query_teams = f\"\"\" INSERT INTO table_teams (`id`, `abbreviation`, `city`, `conference`, `division`, `full_name`, `name`)\n",
    "                        VALUES (\"{row['id']}\", \"{row['abbreviation']}\", \"{row['city']}\", \"{row['conference']}\", \"{row['division']}\", \"{row['full_name']}\",\"{row['name']}\");\n",
    "                                \"\"\"\n",
    "        # Llamamos a la función dentro del for, ya que si no, no itera por todos los valores y sólo nos inserta la primera línea.\n",
    "        execute_query(query_teams)\n",
    "\n",
    "    except:\n",
    "            pass"
   ]
  },
  {
   "attachments": {},
   "cell_type": "markdown",
   "metadata": {},
   "source": [
    "`Games`"
   ]
  },
  {
   "cell_type": "code",
   "execution_count": 10,
   "metadata": {},
   "outputs": [],
   "source": [
    "# This code is iterating through each row of a pandas DataFrame using the `iterrows()` method. For each row, it is constructing an SQL query to insert the values of that row into a table.\n",
    "for index, row in df_games.iterrows():\n",
    "\n",
    "    try:    \n",
    "\n",
    "        query_games = f\"\"\" INSERT INTO table_games (`id`, `date`, `home_team_score`, `period`, `postseason`, `season`, `status`,\n",
    "                                                    `time`, `visitor_team_score`,`home_team.id`, `home_team.abbreviation`, `home_team.city`,\n",
    "                                                    `home_team.conference`, `home_team.division`, `home_team.full_name`, `home_team.name`, \n",
    "                                                    `visitor_team.id`, `visitor_team.abbreviation`, `visitor_team.city`, `visitor_team.conference`,\n",
    "                                                    `visitor_team.division`, `visitor_team.full_name`, `visitor_team.name`)\n",
    "\n",
    "                        VALUES (\"{row['id']}\", \"{row['date']}\", \"{row['home_team_score']}\", \"{row['period']}\", \"{row['postseason']}\", \"{row['season']}\",\"{row['status']}\",\n",
    "                                \"{row['time']}\", \"{row['visitor_team_score']}\", \"{row['home_team.id']}\", \"{row['home_team.abbreviation']}\", \"{row['home_team.city']}\",\n",
    "                                \"{row['home_team.conference']}\", \"{row['home_team.division']}\", \"{row['home_team.full_name']}\", \"{row['home_team.name']}\",\n",
    "                                \"{row['visitor_team.id']}\", \"{row['visitor_team.abbreviation']}\", \"{row['visitor_team.city']}\", \"{row['visitor_team.conference']}\",\n",
    "                                \"{row['visitor_team.division']}\", \"{row['visitor_team.full_name']}\", \"{row['visitor_team.name']}\");\n",
    "                                \"\"\"\n",
    "        # Llamamos a la función dentro del for, ya que si no, no itera por todos los valores y sólo nos inserta la primera línea.\n",
    "        execute_query(query_games)\n",
    "\n",
    "    except:\n",
    "        pass"
   ]
  },
  {
   "attachments": {},
   "cell_type": "markdown",
   "metadata": {},
   "source": [
    "`Players`"
   ]
  },
  {
   "cell_type": "code",
   "execution_count": 11,
   "metadata": {},
   "outputs": [],
   "source": [
    "# This code is iterating through each row of a pandas DataFrame using the `iterrows()` method. For each row, it is constructing an SQL query to insert the values of that row into a table.\n",
    "for index, row in df_players.iterrows():\n",
    "\n",
    "    try: \n",
    "        query_players = f\"\"\" INSERT INTO table_players (`id`, `first_name`, `height_feet`, `height_inches`, `last_name`,\n",
    "                                                    `position`, `weight_pounds`,`team.id`, `team.abbreviation`,\n",
    "                                                    `team.city`, `team.conference`, `team.division`, `team.full_name`, \n",
    "                                                    `team.name`)\n",
    "                        VALUES (\"{row['id']}\", \"{row['first_name']}\", \"{row['height_feet']}\", \"{row['height_inches']}\", \"{row['last_name']}\",\n",
    "                                \"{row['position']}\", \"{row['weight_pounds']}\", \"{row['team.id']}\", \"{row['team.abbreviation']}\",\n",
    "                                \"{row['team.city']}\", \"{row['team.conference']}\", \"{row['team.division']}\", \"{row['team.full_name']}\",\n",
    "                                \"{row['team.name']}\");\n",
    "                                \"\"\"\n",
    "    # Llamamos a la función dentro del for, ya que si no, no itera por todos los valores y sólo nos inserta la primera línea.\n",
    "        execute_query(query_players)\n",
    "\n",
    "    except:\n",
    "        pass\n"
   ]
  },
  {
   "attachments": {},
   "cell_type": "markdown",
   "metadata": {},
   "source": [
    "## Clean null values"
   ]
  },
  {
   "cell_type": "code",
   "execution_count": 12,
   "metadata": {},
   "outputs": [],
   "source": [
    "# This function creates a SQL query string that updates the specified `column` in the specified `table` to `NULL` where the value of the `column` is `'NaN'`. \n",
    "\n",
    "def update_to_null (table, column): # It takes two parameters: `table` and `column`.\n",
    "    query = f\"UPDATE {table} set {column} = NULL WHERE {column} = 'NaN'\"\n",
    "    execute_query(query) # The function then executes the query using a function called `execute_query`\n",
    "    \n",
    "    return query #returns the query string."
   ]
  },
  {
   "attachments": {},
   "cell_type": "markdown",
   "metadata": {},
   "source": [
    "`Teams`"
   ]
  },
  {
   "cell_type": "code",
   "execution_count": 13,
   "metadata": {},
   "outputs": [
    {
     "data": {
      "text/plain": [
       "\"UPDATE table_teams set city = NULL WHERE city = 'NaN'\""
      ]
     },
     "execution_count": 13,
     "metadata": {},
     "output_type": "execute_result"
    }
   ],
   "source": [
    "update_to_null(\"table_teams\", \"city\")"
   ]
  },
  {
   "cell_type": "code",
   "execution_count": 14,
   "metadata": {},
   "outputs": [
    {
     "data": {
      "text/plain": [
       "\"UPDATE table_teams set division = NULL WHERE division = 'NaN'\""
      ]
     },
     "execution_count": 14,
     "metadata": {},
     "output_type": "execute_result"
    }
   ],
   "source": [
    "update_to_null(\"table_teams\", \"division\")"
   ]
  },
  {
   "attachments": {},
   "cell_type": "markdown",
   "metadata": {},
   "source": [
    "`Players`"
   ]
  },
  {
   "cell_type": "code",
   "execution_count": 15,
   "metadata": {},
   "outputs": [
    {
     "data": {
      "text/plain": [
       "\"UPDATE table_players set height_feet = NULL WHERE height_feet = 'NaN'\""
      ]
     },
     "execution_count": 15,
     "metadata": {},
     "output_type": "execute_result"
    }
   ],
   "source": [
    "update_to_null(\"table_players\", \"height_feet\")"
   ]
  },
  {
   "cell_type": "code",
   "execution_count": 16,
   "metadata": {},
   "outputs": [
    {
     "data": {
      "text/plain": [
       "\"UPDATE table_players set height_inches = NULL WHERE height_inches = 'NaN'\""
      ]
     },
     "execution_count": 16,
     "metadata": {},
     "output_type": "execute_result"
    }
   ],
   "source": [
    "update_to_null(\"table_players\", \"height_inches\")"
   ]
  },
  {
   "cell_type": "code",
   "execution_count": 17,
   "metadata": {},
   "outputs": [
    {
     "data": {
      "text/plain": [
       "\"UPDATE table_players set weight_pounds = NULL WHERE weight_pounds = 'NaN'\""
      ]
     },
     "execution_count": 17,
     "metadata": {},
     "output_type": "execute_result"
    }
   ],
   "source": [
    "update_to_null(\"table_players\", \"weight_pounds\")"
   ]
  }
 ],
 "metadata": {
  "kernelspec": {
   "display_name": "testenv",
   "language": "python",
   "name": "python3"
  },
  "language_info": {
   "codemirror_mode": {
    "name": "ipython",
    "version": 3
   },
   "file_extension": ".py",
   "mimetype": "text/x-python",
   "name": "python",
   "nbconvert_exporter": "python",
   "pygments_lexer": "ipython3",
   "version": "3.11.2"
  },
  "orig_nbformat": 4,
  "vscode": {
   "interpreter": {
    "hash": "d2c830d6dee9d0c44b274c3dcd5b7ef52a928458cd20000d2bece538c641f81e"
   }
  }
 },
 "nbformat": 4,
 "nbformat_minor": 2
}
